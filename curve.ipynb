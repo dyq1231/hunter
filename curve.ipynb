{
 "cells": [
  {
   "cell_type": "code",
   "execution_count": null,
   "metadata": {},
   "outputs": [],
   "source": [
    "import numpy as np\n",
    "import os\n",
    "import pandas as pd\n",
    "import matplotlib.pyplot as plt\n",
    "from scipy.optimize import curve_fit\n",
    "from scipy.signal import find_peaks\n",
    "import scipy.fft as fft"
   ]
  },
  {
   "cell_type": "code",
   "execution_count": null,
   "metadata": {},
   "outputs": [],
   "source": [
    "root_dir = r\"D:\\A-deng\\hunter\\data\"\n",
    "# root_dir = r\"D:\\abc\"\n",
    "file_names = []"
   ]
  },
  {
   "cell_type": "code",
   "execution_count": null,
   "metadata": {},
   "outputs": [],
   "source": [
    "def list_dirs(root_dir):\n",
    "    '''\n",
    "    深度优先遍历文件夹，将文件夹下所有文件的路径存入file_names\n",
    "    '''\n",
    "    for root, dirs, files in os.walk(root_dir):\n",
    "        for file in files:\n",
    "            file_names.append(os.path.join(root, file))"
   ]
  },
  {
   "cell_type": "code",
   "execution_count": null,
   "metadata": {},
   "outputs": [],
   "source": [
    "list_dirs(root_dir)\n",
    "print(file_names)\n",
    "# file_names = file_names[0:1]"
   ]
  },
  {
   "cell_type": "code",
   "execution_count": null,
   "metadata": {},
   "outputs": [],
   "source": [
    "def read_data(file_names):\n",
    "    '''\n",
    "    传入所有数据文件，返回数据，数据形式[x, y, increment, data_size]\n",
    "    '''\n",
    "    datalist = []\n",
    "    for file_name in file_names:\n",
    "        if file_name.endswith('.csv'):\n",
    "            df = pd.read_csv(file_name)\n",
    "            y = df['Math'].drop(df.index[0]).astype(float).to_numpy()\n",
    "            x_start = df[\"Start\"].iloc[0].astype(float)\n",
    "            x_increment = df[\"Increment\"].iloc[0].astype(float)\n",
    "            data_size = len(y)\n",
    "            x_end = x_increment * data_size\n",
    "            x = np.arange(x_start, x_end, x_increment)\n",
    "            datalist.append([x, y, x_increment, data_size])\n",
    "        \n",
    "    return datalist"
   ]
  },
  {
   "cell_type": "code",
   "execution_count": null,
   "metadata": {},
   "outputs": [],
   "source": [
    "data_list = read_data(file_names)"
   ]
  },
  {
   "cell_type": "code",
   "execution_count": null,
   "metadata": {},
   "outputs": [],
   "source": [
    "print(data_list)"
   ]
  },
  {
   "cell_type": "code",
   "execution_count": null,
   "metadata": {},
   "outputs": [],
   "source": [
    "# FFT\n",
    "def do_fft(y, increment, data_size):\n",
    "    '''\n",
    "    对y进行FFT变换，返回FFT结果和频率\n",
    "    '''\n",
    "    fft_result = fft.fft(y)\n",
    "    fft_freq = fft.fftfreq(data_size, increment)\n",
    "    return fft_result, fft_freq"
   ]
  },
  {
   "cell_type": "code",
   "execution_count": null,
   "metadata": {},
   "outputs": [],
   "source": [
    "fft_results = []\n",
    "fft_freqs = []\n",
    "params_b = []\n",
    "fft_results_peaks=[]\n",
    "phases = []\n",
    "\n",
    "for data in data_list:\n",
    "    fft_result, fft_freq = do_fft(data[1], data[2], data[3])\n",
    "    fft_results.append(fft_result)\n",
    "    fft_freqs.append(fft_freq)\n",
    "\n",
    "    # 寻找FFT结果中的峰值\n",
    "    peaks, _ = find_peaks(np.abs(fft_result), height=data[3]*0.01)  # height是选中阈值\n",
    "\n",
    "    # 获取峰值的频率和振幅\n",
    "    peak_frequencies = fft_freq[peaks]\n",
    "    peak_amplitudes = np.abs(fft_result[peaks])\n",
    "    fft_results_peaks.append(fft_result[peaks])\n",
    "    print(fft_result[peaks])\n",
    "    angles = np.angle(fft_result[peaks])\n",
    "\n",
    "    b = 0\n",
    "    # 打印峰值信息\n",
    "    for i, frequency in enumerate(peak_frequencies):\n",
    "        if frequency > 0:\n",
    "            print(f\"峰值 {i + 1}: 频率 = {frequency} Hz, 振幅 = {peak_amplitudes[i]}, 相位 = {angles[i]}\")\n",
    "\n",
    "            if 2 * np.pi * frequency > b:\n",
    "                b = 2 * np.pi * frequency\n",
    "                phase = angles[i]\n",
    "    \n",
    "    params_b.append(b)\n",
    "    phases.append(phase)"
   ]
  },
  {
   "cell_type": "code",
   "execution_count": null,
   "metadata": {},
   "outputs": [],
   "source": [
    "# def fft_half(fft_result, increment):\n",
    "#     '''\n",
    "#     对FFT结果进行处理，返回FFT结果的一半和频率\n",
    "#     '''\n",
    "#     N = len(fft_result)\n",
    "#     T = increment  # 采样间隔\n",
    "#     xf = np.linspace(0.0, 1.0/(2.0*T), N//2)\n",
    "\n",
    "#     fft_result = fft_result[:N//2]\n",
    "#     return fft_result, xf"
   ]
  },
  {
   "cell_type": "code",
   "execution_count": null,
   "metadata": {},
   "outputs": [],
   "source": [
    "# fft_half_result, xf = fft_half(fft_result, increment)"
   ]
  },
  {
   "cell_type": "code",
   "execution_count": null,
   "metadata": {},
   "outputs": [],
   "source": [
    "def ifft_filter(fft_result, fft_freq, desired_frequency, bandwidth):\n",
    "    '''\n",
    "    逆FFT滤波，传入参数为数据，采样频率(即1/increment)，数据长度，保留的频率，频率带宽，返回滤波后的数据\n",
    "    '''\n",
    "\n",
    "    # 应用滤波器\n",
    "    fft_result_filtered = np.copy(fft_result)\n",
    "    fft_result_filtered[(fft_freq > desired_frequency + bandwidth/2) | (fft_freq < desired_frequency - bandwidth/2)] = 0\n",
    "\n",
    "    # 执行逆FFT\n",
    "    filtered_signal = fft.ifft(fft_result_filtered)\n",
    "\n",
    "    # 取实部，因为IFFT的结果可能包含复数\n",
    "    return filtered_signal.real"
   ]
  },
  {
   "cell_type": "code",
   "execution_count": null,
   "metadata": {},
   "outputs": [],
   "source": [
    "def plot_ifft_figure(x, y, filtered_signal):\n",
    "    '''\n",
    "    绘制原始和滤波后的信号\n",
    "    '''\n",
    "    plt.figure(figsize=(10, 6))\n",
    "    plt.plot(x, y, label='source')\n",
    "    plt.plot(x, filtered_signal, label='filtered red', color='red')\n",
    "    plt.legend()\n",
    "    plt.xlabel('x')\n",
    "    plt.ylabel('y')\n",
    "    plt.show()"
   ]
  },
  {
   "cell_type": "code",
   "execution_count": null,
   "metadata": {},
   "outputs": [],
   "source": [
    "filtered_signals = []\n",
    "\n",
    "for i in range(len(data_list)):\n",
    "    filtered_signal = ifft_filter(fft_results[i], fft_freqs[i], params_b[i] / 2 / np.pi, 1)\n",
    "    filtered_signals.append(filtered_signal)\n",
    "    # plot_ifft_figure(data_list[i][0], data_list[i][1], filtered_signal)"
   ]
  },
  {
   "cell_type": "code",
   "execution_count": null,
   "metadata": {},
   "outputs": [],
   "source": [
    "# # 计算移动平均\n",
    "# def moving_average(data, window_size):\n",
    "#     return np.convolve(data, np.ones(window_size)/window_size, mode='valid')\n",
    "\n",
    "# # 应用移动平均\n",
    "# window_size = 5\n",
    "# y_smoothed = moving_average(y, window_size)"
   ]
  },
  {
   "cell_type": "code",
   "execution_count": null,
   "metadata": {},
   "outputs": [],
   "source": [
    "# def func_curve(x, y, b):\n",
    "#     # 模型函数f(x) = asin(bx+c)\n",
    "#     def func_model(x, a, c):\n",
    "#         return a * np.sin(b * x + c)\n",
    "\n",
    "#     # 进行曲线拟合\n",
    "#     initial_guess = [0.3, 1]\n",
    "#     popt, pcov = curve_fit(func_model, x, y, initial_guess)\n",
    "#     print('popt: ', popt)\n",
    "    \n",
    "#     return popt, pcov"
   ]
  },
  {
   "cell_type": "code",
   "execution_count": null,
   "metadata": {},
   "outputs": [],
   "source": [
    "# popts = []\n",
    "# for i in range(len(data_list)):\n",
    "#     popt, pcov = func_curve(data_list[i][0], data_list[i][1], params_b[i])\n",
    "#     popts.append(popt)"
   ]
  },
  {
   "cell_type": "code",
   "execution_count": null,
   "metadata": {},
   "outputs": [],
   "source": [
    "def plot_curve(x, y, b, popt):\n",
    "    # 模型函数f(x) = asin(bx+c)\n",
    "    def func_model(x, a, c):\n",
    "        return a * np.cos(b * x + c)\n",
    "    \n",
    "    plt.figure(figsize=(10, 6))\n",
    "    plt.plot(x, y, label='source')\n",
    "    plt.plot(x, func_model(x, *popt), label='fitting', color='red')\n",
    "    plt.legend()\n",
    "    plt.xlabel('x')\n",
    "    plt.ylabel('y')\n",
    "    plt.show()"
   ]
  },
  {
   "cell_type": "code",
   "execution_count": null,
   "metadata": {},
   "outputs": [],
   "source": [
    "# for i in range(len(data_list)):\n",
    "#     plot_curve(data_list[i][0], data_list[i][1], params_b[i], popts[i])"
   ]
  },
  {
   "cell_type": "code",
   "execution_count": null,
   "metadata": {},
   "outputs": [],
   "source": [
    "# 计算滤波后逆FFT得到的a\n",
    "ifft_fit_popts = []\n",
    "for i in range(len(data_list)):\n",
    "    max_a = 0\n",
    "    max_a_index = 0\n",
    "    for j in range(len(filtered_signals[i])):\n",
    "        temp_y = filtered_signals[i][j]\n",
    "        if temp_y > max_a:\n",
    "            max_a = temp_y\n",
    "            max_a_index = j\n",
    "    \n",
    "    max_x = data_list[i][0][max_a_index]\n",
    "    c = - max_x * params_b[i]     # 取最大值时 bx+c = 0\n",
    "\n",
    "    ifft_fit_popts.append([max_a, c])"
   ]
  },
  {
   "cell_type": "code",
   "execution_count": null,
   "metadata": {},
   "outputs": [],
   "source": [
    "# for i in range(len(data_list)):\n",
    "#     plot_curve(data_list[i][0], data_list[i][1], params_b[i], ifft_fit_popts[i])\n",
    "#     plot_curve(data_list[i][0], data_list[i][1], params_b[i], [ifft_fit_popts[i][0], phases[i]])"
   ]
  },
  {
   "cell_type": "code",
   "execution_count": null,
   "metadata": {},
   "outputs": [],
   "source": [
    "# 保存拟合结果\n",
    "with open('fit_result.txt', 'w+', encoding=\"utf-8\") as f:\n",
    "    for i in range(len(data_list)):\n",
    "        f.write(f\" {file_names[i][len(root_dir):]} : \\n\")\n",
    "        f.write(f\" fft + ifft fit : \\n f = {ifft_fit_popts[i][0]} *cos( {params_b[i]} *x + {phases[i]} )\\n\\n\\n\")\n",
    "        # f.write(f\" fft + opt fit : \\n f = {popts[i][0]} *sin( {params_b[i]} *x + {popts[i][1]} )\\n\\n\")"
   ]
  },
  {
   "cell_type": "code",
   "execution_count": null,
   "metadata": {},
   "outputs": [],
   "source": [
    "# # 可视化FFT\n",
    "# plt.figure(figsize=(12, 6))\n",
    "\n",
    "# # 绘制原始信号\n",
    "# plt.subplot(2, 1, 1)\n",
    "# plt.plot(x, y)\n",
    "# plt.title(\"原始信号\")\n",
    "# plt.xlabel(\"时间 (秒)\")\n",
    "# plt.ylabel(\"振幅\")\n",
    "\n",
    "# # 绘制 FFT 结果\n",
    "# plt.subplot(2, 1, 2)\n",
    "# plt.plot(fft_freq, np.abs(fft_result))\n",
    "# plt.title(\"FFT 结果\")\n",
    "# plt.xlabel(\"频率 (Hz)\")\n",
    "# plt.ylabel(\"振幅\")\n",
    "# plt.xlim(0, 100)  # 限制 x 轴范围以更好地查看结果"
   ]
  }
 ],
 "metadata": {
  "kernelspec": {
   "display_name": "Python 3",
   "language": "python",
   "name": "python3"
  },
  "language_info": {
   "codemirror_mode": {
    "name": "ipython",
    "version": 3
   },
   "file_extension": ".py",
   "mimetype": "text/x-python",
   "name": "python",
   "nbconvert_exporter": "python",
   "pygments_lexer": "ipython3",
   "version": "3.9.13"
  }
 },
 "nbformat": 4,
 "nbformat_minor": 2
}
